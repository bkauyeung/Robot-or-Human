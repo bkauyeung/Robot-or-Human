{
 "cells": [
  {
   "cell_type": "markdown",
   "metadata": {
    "colab_type": "text",
    "id": "u7n-NEMqxXHT"
   },
   "source": [
    "# Applied ML 207 Final Project\n",
    "\n",
    "## Human or Robot?\n",
    "\n",
    "by\n",
    "\n",
    "Alexandra Savelieva, Bryan Auyeung & Vasanth Ramani"
   ]
  },
  {
   "cell_type": "markdown",
   "metadata": {
    "colab_type": "text",
    "id": "lFjZdsUvxXHV"
   },
   "source": [
    "## 1. Introduction\n",
    "\n",
    "In this Kaggle challenge, we're chasing down robots for an online auction site. Human bidders on the site are becoming increasingly frustrated with their inability to win auctions vs. their software-controlled counterparts. As a result, usage from the site's core customer base is plummeting.\n",
    "\n",
    "In order to rebuild customer happiness, the site owners need to eliminate computer generated bidding from their auctions. Their attempt at building a model to identify these bids using behavioral data, including bid frequency over short periods of time, has proven insufficient. \n",
    "\n",
    "The goal of this competition is to identify online auction bids that are placed by \"robots\", helping the site owners easily flag these users for removal from their site to prevent unfair auction activity. \n",
    "\n",
    "### 1.1 Hypothesis\n",
    "\n",
    "We want to build a classifier that accurately identifies robots from human bidders.\n",
    "\n"
   ]
  },
  {
   "cell_type": "markdown",
   "metadata": {
    "colab_type": "text",
    "id": "fBHUwoCLxXHV"
   },
   "source": [
    "### 1.2 Dataset\n",
    "\n",
    "* train.csv - the training set from the bidder dataset (with labels)\n",
    "\n",
    "* test.csv - the test set from the bidder dataset (not important for our purposes)\n",
    "\n",
    "* sampleSubmission.csv - a sample submission file in the correct format (not important for our purposes)\n",
    "\n",
    "* bids.csv - the bid dataset\n",
    "\n",
    "\n",
    "##### 1.2.1 Bidder Dataset\n",
    "\n",
    "* bidder_id – Unique identifier of a bidder.\n",
    "\n",
    "* payment_account – Payment account associated with a bidder. These are obfuscated to protect privacy. \n",
    "\n",
    "* address – Mailing address of a bidder. These are obfuscated to protect privacy. \n",
    "\n",
    "* outcome – Label of a bidder indicating whether or not it is a robot. Value 1.0 indicates a robot, where value 0.0 indicates human. \n",
    "\n",
    "The outcome was half hand labeled, half stats-based. There are two types of \"bots\" with different levels of proof:\n",
    "\n",
    "1. Bidders who are identified as bots/fraudulent with clear proof. Their accounts were banned by the auction site.\n",
    "\n",
    "2. Bidder who may have just started their business/clicks or their stats exceed from system wide average. There are no clear proof that they are bots. \n",
    "\n",
    "\n",
    "##### 1.2.2 Bids Dataset\n",
    "\n",
    "* bid_id - unique id for this bid \n",
    "\n",
    "* bidder_id – Unique identifier of a bidder (same as the bidder_id used in train.csv and test.csv) \n",
    " \n",
    "* auction – Unique identifier of an auction \n",
    "\n",
    "* merchandise –  The category of the auction site campaign, which means the bidder might come to this site by way of searching for \"home goods\" but ended up bidding for \"sporting goods\" - and that leads to this field being \"home goods\". This categorical field could be a search term, or online advertisement.  \n",
    "* device – Phone model of a visitor \n",
    "\n",
    "* time - Time that the bid is made (transformed to protect privacy). \n",
    "\n",
    "* country - The country that the IP belongs to  \n",
    "\n",
    "* ip – IP address of a bidder (obfuscated to protect privacy).  \n",
    "\n",
    "* url - url where the bidder was referred from (obfuscated to protect privacy). "
   ]
  },
  {
   "cell_type": "markdown",
   "metadata": {
    "colab_type": "text",
    "id": "hIqpSvKOtiJH"
   },
   "source": [
    "## 2. General methodology\n",
    "We will clean the data and perform EDA. We start with treating the dataset as a “black box”, without applying any domain knowledge to feature engineering. We will use this information to determine our baseline. Also we will compare it with a very naive algorithm - “what if we answer that it is human regardless of the feature values”.\n",
    "* Denormalize data and label the ‘bids’ dataset with the bidder information and outcome (i.e. join by key - bidder id).\n",
    "* Create new features that aggregate total values by bidder_id and add them to our bids dataset for future models. We will add more complex features following the completion of the baseline.\n",
    "* Use a KNN model as a baseline to classify humans and bots from our merged dataset. For this, we need to transform categorical data into numeric values.\n",
    "* Further improve our accuracy with better algorithms such as decision trees with ADA/gradient boosting, random forest classifiers, logistic regression.\n",
    "* Given that several features in the dataset are obfuscated for privacy concerns, consider engineering more insights from bids (such as frequency, geo-distribution, IP-distribution) per bidder to improve our accuracy."
   ]
  },
  {
   "cell_type": "code",
   "execution_count": 0,
   "metadata": {
    "colab": {},
    "colab_type": "code",
    "id": "hR7FASWBKxOz"
   },
   "outputs": [],
   "source": [
    "#!pip install -U -q PyDrive\n",
    "from pydrive.auth import GoogleAuth\n",
    "from pydrive.drive import GoogleDrive\n",
    "from google.colab import auth \n",
    "from oauth2client.client import GoogleCredentials\n",
    "\n",
    "#Authenticate and create the PyDrive client\n",
    "auth.authenticate_user()\n",
    "gauth = GoogleAuth()\n",
    "gauth.credentials = GoogleCredentials.get_application_default()\n",
    "drive = GoogleDrive(gauth)"
   ]
  },
  {
   "cell_type": "code",
   "execution_count": 0,
   "metadata": {
    "colab": {},
    "colab_type": "code",
    "id": "ouOyKtnoLGh3"
   },
   "outputs": [],
   "source": [
    "bidslink = 'https://drive.google.com/open?id=16m_IzfTRAQFuEJ2D704pjv-D9XWdVjIY'\n",
    "fluff, id = bidslink.split('=')\n",
    "downloaded1 = drive.CreateFile({'id':id})\n",
    "downloaded1.GetContentFile('bids.csv')\n",
    "trainlink = 'https://drive.google.com/open?id=1S3p0sTrX5N9K_QaPrDT3vP3ZyCHePuTm'\n",
    "fluff, id = trainlink.split('=')\n",
    "downloaded2 = drive.CreateFile({'id':id})\n",
    "downloaded2.GetContentFile('train.csv')"
   ]
  },
  {
   "cell_type": "markdown",
   "metadata": {
    "colab_type": "text",
    "id": "tQg5uJScW9aY"
   },
   "source": [
    "***"
   ]
  },
  {
   "cell_type": "markdown",
   "metadata": {
    "colab_type": "text",
    "id": "5k3KnHJPmX82"
   },
   "source": [
    "## 3. Imports"
   ]
  },
  {
   "cell_type": "code",
   "execution_count": 0,
   "metadata": {
    "colab": {},
    "colab_type": "code",
    "id": "9pQkbOe2xXHY"
   },
   "outputs": [],
   "source": [
    "import pandas as pd\n",
    "import numpy as np\n",
    "import time\n",
    "import matplotlib.pyplot as plt\n",
    "\n",
    "from sklearn import preprocessing\n",
    "\n",
    "# Import train_test_split function\n",
    "from sklearn.model_selection import train_test_split\n",
    "from sklearn.model_selection import cross_val_score\n",
    "\n",
    "#Import KNN model\n",
    "from sklearn.neighbors import KNeighborsClassifier\n",
    "\n",
    "#Import scikit-learn metrics module for accuracy calculation\n",
    "from sklearn import metrics\n",
    "\n",
    "# AUC\n",
    "from sklearn.metrics import roc_curve, auc\n",
    "from sklearn.metrics import confusion_matrix\n",
    "from sklearn.metrics import classification_report\n",
    "\n",
    "# ignore the warning\n",
    "import warnings\n",
    "warnings.filterwarnings('ignore')"
   ]
  },
  {
   "cell_type": "markdown",
   "metadata": {
    "colab_type": "text",
    "id": "kQvHwq_oXAZo"
   },
   "source": [
    "***"
   ]
  },
  {
   "cell_type": "markdown",
   "metadata": {
    "colab_type": "text",
    "id": "ZvdrDUMVmgRB"
   },
   "source": [
    "## 4. Preprocess Data\n",
    "\n",
    "### 4.1 Exploring the bids dataset"
   ]
  },
  {
   "cell_type": "code",
   "execution_count": 88,
   "metadata": {
    "colab": {
     "base_uri": "https://localhost:8080/",
     "height": 202
    },
    "colab_type": "code",
    "id": "45jM2HepxXHd",
    "outputId": "d619d3f1-2d05-4ba3-b3c6-558882143ddd"
   },
   "outputs": [
    {
     "data": {
      "text/html": [
       "<div>\n",
       "<style scoped>\n",
       "    .dataframe tbody tr th:only-of-type {\n",
       "        vertical-align: middle;\n",
       "    }\n",
       "\n",
       "    .dataframe tbody tr th {\n",
       "        vertical-align: top;\n",
       "    }\n",
       "\n",
       "    .dataframe thead th {\n",
       "        text-align: right;\n",
       "    }\n",
       "</style>\n",
       "<table border=\"1\" class=\"dataframe\">\n",
       "  <thead>\n",
       "    <tr style=\"text-align: right;\">\n",
       "      <th></th>\n",
       "      <th>bid_id</th>\n",
       "      <th>bidder_id</th>\n",
       "      <th>auction</th>\n",
       "      <th>merchandise</th>\n",
       "      <th>device</th>\n",
       "      <th>time</th>\n",
       "      <th>country</th>\n",
       "      <th>ip</th>\n",
       "      <th>url</th>\n",
       "    </tr>\n",
       "  </thead>\n",
       "  <tbody>\n",
       "    <tr>\n",
       "      <th>0</th>\n",
       "      <td>0</td>\n",
       "      <td>8dac2b259fd1c6d1120e519fb1ac14fbqvax8</td>\n",
       "      <td>ewmzr</td>\n",
       "      <td>jewelry</td>\n",
       "      <td>phone0</td>\n",
       "      <td>9759243157894736</td>\n",
       "      <td>us</td>\n",
       "      <td>69.166.231.58</td>\n",
       "      <td>vasstdc27m7nks3</td>\n",
       "    </tr>\n",
       "    <tr>\n",
       "      <th>1</th>\n",
       "      <td>1</td>\n",
       "      <td>668d393e858e8126275433046bbd35c6tywop</td>\n",
       "      <td>aeqok</td>\n",
       "      <td>furniture</td>\n",
       "      <td>phone1</td>\n",
       "      <td>9759243157894736</td>\n",
       "      <td>in</td>\n",
       "      <td>50.201.125.84</td>\n",
       "      <td>jmqlhflrzwuay9c</td>\n",
       "    </tr>\n",
       "    <tr>\n",
       "      <th>2</th>\n",
       "      <td>2</td>\n",
       "      <td>aa5f360084278b35d746fa6af3a7a1a5ra3xe</td>\n",
       "      <td>wa00e</td>\n",
       "      <td>home goods</td>\n",
       "      <td>phone2</td>\n",
       "      <td>9759243157894736</td>\n",
       "      <td>py</td>\n",
       "      <td>112.54.208.157</td>\n",
       "      <td>vasstdc27m7nks3</td>\n",
       "    </tr>\n",
       "    <tr>\n",
       "      <th>3</th>\n",
       "      <td>3</td>\n",
       "      <td>3939ac3ef7d472a59a9c5f893dd3e39fh9ofi</td>\n",
       "      <td>jefix</td>\n",
       "      <td>jewelry</td>\n",
       "      <td>phone4</td>\n",
       "      <td>9759243157894736</td>\n",
       "      <td>in</td>\n",
       "      <td>18.99.175.133</td>\n",
       "      <td>vasstdc27m7nks3</td>\n",
       "    </tr>\n",
       "    <tr>\n",
       "      <th>4</th>\n",
       "      <td>4</td>\n",
       "      <td>8393c48eaf4b8fa96886edc7cf27b372dsibi</td>\n",
       "      <td>jefix</td>\n",
       "      <td>jewelry</td>\n",
       "      <td>phone5</td>\n",
       "      <td>9759243157894736</td>\n",
       "      <td>in</td>\n",
       "      <td>145.138.5.37</td>\n",
       "      <td>vasstdc27m7nks3</td>\n",
       "    </tr>\n",
       "  </tbody>\n",
       "</table>\n",
       "</div>"
      ],
      "text/plain": [
       "   bid_id  ...              url\n",
       "0       0  ...  vasstdc27m7nks3\n",
       "1       1  ...  jmqlhflrzwuay9c\n",
       "2       2  ...  vasstdc27m7nks3\n",
       "3       3  ...  vasstdc27m7nks3\n",
       "4       4  ...  vasstdc27m7nks3\n",
       "\n",
       "[5 rows x 9 columns]"
      ]
     },
     "execution_count": 88,
     "metadata": {
      "tags": []
     },
     "output_type": "execute_result"
    }
   ],
   "source": [
    "bids = pd.read_csv(\"bids.csv\") \n",
    "bids.head()"
   ]
  },
  {
   "cell_type": "code",
   "execution_count": 89,
   "metadata": {
    "colab": {
     "base_uri": "https://localhost:8080/",
     "height": 87
    },
    "colab_type": "code",
    "id": "9jpjv-nKxXHg",
    "outputId": "d0b131e3-3cf1-4e6c-dc90-98418bf6b3ed"
   },
   "outputs": [
    {
     "name": "stdout",
     "output_type": "stream",
     "text": [
      "Number of unique bidders - 6614\n",
      "Number of unique auctions - 15051\n",
      "Unique bids at the same time - 776529\n",
      "Bids at the same time - 7656334\n"
     ]
    }
   ],
   "source": [
    "print('Number of unique bidders -', len(bids.bidder_id.unique()))\n",
    "print('Number of unique auctions -', len(bids.auction.unique()))\n",
    "\n",
    "# Looks like many things are bought at the same time. How is this time transformed (hour / minute?) \n",
    "print('Unique bids at the same time -', len(bids.time.unique()))\n",
    "print('Bids at the same time -', len(bids.time))"
   ]
  },
  {
   "cell_type": "markdown",
   "metadata": {
    "colab_type": "text",
    "id": "Ia68vTWzbwgk"
   },
   "source": [
    "Look at the distribution of merchandise that is being bought in the auction."
   ]
  },
  {
   "cell_type": "code",
   "execution_count": 90,
   "metadata": {
    "colab": {
     "base_uri": "https://localhost:8080/",
     "height": 392
    },
    "colab_type": "code",
    "id": "LuOTdSkHxXHj",
    "outputId": "f947865d-e5b3-4730-8185-94730978c453"
   },
   "outputs": [
    {
     "name": "stdout",
     "output_type": "stream",
     "text": [
      "Unique merchandise - ['jewelry' 'furniture' 'home goods' 'mobile' 'sporting goods'\n",
      " 'office equipment' 'computers' 'books and music' 'clothing' 'auto parts']\n"
     ]
    },
    {
     "data": {
      "text/plain": [
       "([0, 1, 2, 3, 4, 5, 6, 7, 8, 9], <a list of 10 Text xticklabel objects>)"
      ]
     },
     "execution_count": 90,
     "metadata": {
      "tags": []
     },
     "output_type": "execute_result"
    },
    {
     "data": {
      "image/png": "[encoded data removed]",
      "text/plain": [
       "<Figure size 432x288 with 1 Axes>"
      ]
     },
     "metadata": {
      "tags": []
     },
     "output_type": "display_data"
    }
   ],
   "source": [
    "print('Unique merchandise -', bids.merchandise.unique())\n",
    "plt.hist(bids.merchandise, rwidth=.9)\n",
    "plt.xticks(rotation='vertical')"
   ]
  },
  {
   "cell_type": "markdown",
   "metadata": {
    "colab_type": "text",
    "id": "co6rrHxAmO3x"
   },
   "source": [
    "### 4.2 Exploring the train dataset"
   ]
  },
  {
   "cell_type": "code",
   "execution_count": 91,
   "metadata": {
    "colab": {
     "base_uri": "https://localhost:8080/",
     "height": 52
    },
    "colab_type": "code",
    "id": "Ov2KDIUDxXHp",
    "outputId": "510b8f59-2f19-40b4-caaf-c3241a86d71f"
   },
   "outputs": [
    {
     "name": "stdout",
     "output_type": "stream",
     "text": [
      "Columns in Train dataset - Index(['bidder_id', 'payment_account', 'address', 'outcome'], dtype='object')\n",
      "Total unique bidders - 2013\n"
     ]
    }
   ],
   "source": [
    "train = pd.read_csv('train.csv')\n",
    "print('Columns in Train dataset -', train.columns)\n",
    "print('Total unique bidders -', len(train.bidder_id.unique()))"
   ]
  },
  {
   "cell_type": "code",
   "execution_count": 92,
   "metadata": {
    "colab": {
     "base_uri": "https://localhost:8080/",
     "height": 156
    },
    "colab_type": "code",
    "id": "AeJwftV5IdYf",
    "outputId": "a07a5646-3f75-4096-86b2-41d81e98cb67"
   },
   "outputs": [
    {
     "name": "stdout",
     "output_type": "stream",
     "text": [
      "                               bidder_id  ... outcome\n",
      "0  91a3c57b13234af24875c56fb7e2b2f4rb56a  ...     0.0\n",
      "1  624f258b49e77713fc34034560f93fb3hu3jo  ...     0.0\n",
      "2  1c5f4fc669099bfbfac515cd26997bd12ruaj  ...     0.0\n",
      "3  4bee9aba2abda51bf43d639013d6efe12iycd  ...     0.0\n",
      "4  4ab12bc61c82ddd9c2d65e60555808acqgos1  ...     0.0\n",
      "\n",
      "[5 rows x 4 columns]\n"
     ]
    }
   ],
   "source": [
    "print(train.head())"
   ]
  },
  {
   "cell_type": "code",
   "execution_count": 93,
   "metadata": {
    "colab": {
     "base_uri": "https://localhost:8080/",
     "height": 87
    },
    "colab_type": "code",
    "id": "Kr_-wXLkxXHt",
    "outputId": "28a0acc8-b37e-4a7f-ad76-9c7b92251015"
   },
   "outputs": [
    {
     "name": "stdout",
     "output_type": "stream",
     "text": [
      "Total Outcomes - 0.0    1910\n",
      "1.0     103\n",
      "Name: outcome, dtype: int64\n",
      "Robot/Human - 0.05392670157068063\n"
     ]
    }
   ],
   "source": [
    "print('Total Outcomes -' ,train.outcome.value_counts())\n",
    "\n",
    "# Percent of robots in the entire dataset\n",
    "print(\"Robot/Human -\", train.outcome.value_counts()[1]/train.outcome.value_counts()[0]) #412416/2658837 "
   ]
  },
  {
   "cell_type": "markdown",
   "metadata": {
    "colab_type": "text",
    "id": "nfQteqVZF_ek"
   },
   "source": [
    "### 4.3 Data Cleaning"
   ]
  },
  {
   "cell_type": "markdown",
   "metadata": {
    "colab_type": "text",
    "id": "XpBeHuovcJid"
   },
   "source": [
    "We see that there are some empty values inside the Country column in the bids dataframe."
   ]
  },
  {
   "cell_type": "code",
   "execution_count": 94,
   "metadata": {
    "colab": {
     "base_uri": "https://localhost:8080/",
     "height": 191
    },
    "colab_type": "code",
    "id": "nuCysbfyF-jB",
    "outputId": "a8016649-b8f7-4391-c94e-14a280926623"
   },
   "outputs": [
    {
     "data": {
      "text/plain": [
       "bid_id         False\n",
       "bidder_id      False\n",
       "auction        False\n",
       "merchandise    False\n",
       "device         False\n",
       "time           False\n",
       "country         True\n",
       "ip             False\n",
       "url            False\n",
       "dtype: bool"
      ]
     },
     "execution_count": 94,
     "metadata": {
      "tags": []
     },
     "output_type": "execute_result"
    }
   ],
   "source": [
    "pd.isnull(bids).any()"
   ]
  },
  {
   "cell_type": "markdown",
   "metadata": {
    "colab_type": "text",
    "id": "uQuPDX_Ines2"
   },
   "source": [
    "We are finding 29 bidder Ids in the train dataset that are not in the bids dataset. Finding the bid_ids that are not null"
   ]
  },
  {
   "cell_type": "code",
   "execution_count": 95,
   "metadata": {
    "colab": {
     "base_uri": "https://localhost:8080/",
     "height": 87
    },
    "colab_type": "code",
    "id": "TOPAEEMxxXHv",
    "outputId": "aba5d963-7d1d-496a-dbf6-326a175ad97d"
   },
   "outputs": [
    {
     "name": "stdout",
     "output_type": "stream",
     "text": [
      "Overlap in unique bidder ID between bids and train data is - 1984\n",
      "Train data has unique bidder IDs - 2013\n",
      "There are  4630 bidder id's that are in (unlabeled) bids dataset but not in (labeled) bidders dataset\n",
      "There are  29 bidder id's that are in (labeled) bidders dataset but not in (unlabeled) bids dataset\n"
     ]
    }
   ],
   "source": [
    "def Diff(li1, li2): \n",
    "    return (list(set(li1) - set(li2)))\n",
    "\n",
    "li1 = bids.bidder_id.unique()\n",
    "li2 = train.bidder_id.unique()\n",
    "difference = (len(Diff(li1, li2)))\n",
    "\n",
    "# Difference in unique bidder_ids\n",
    "print('Overlap in unique bidder ID between bids and train data is -', len(bids.bidder_id.unique())- difference)\n",
    "print('Train data has unique bidder IDs -', len(train.bidder_id.unique()))\n",
    "\n",
    "difference2 = (len(Diff(li2, li1)))\n",
    "# Difference in bid_ids\n",
    "print(\"There are \", difference, \"bidder id's that are in (unlabeled) bids dataset but not in (labeled) bidders dataset\")\n",
    "print(\"There are \", difference2, \"bidder id's that are in (labeled) bidders dataset but not in (unlabeled) bids dataset\")\n"
   ]
  },
  {
   "cell_type": "markdown",
   "metadata": {
    "colab_type": "text",
    "id": "2Co_vJibZVsf"
   },
   "source": [
    "Dropping the Not Applicable(NA) rows"
   ]
  },
  {
   "cell_type": "code",
   "execution_count": 0,
   "metadata": {
    "colab": {},
    "colab_type": "code",
    "id": "IlXIuIfKGObX"
   },
   "outputs": [],
   "source": [
    "bids = bids.dropna()"
   ]
  },
  {
   "cell_type": "markdown",
   "metadata": {
    "colab_type": "text",
    "id": "uiqoNX7hfhax"
   },
   "source": [
    "*******"
   ]
  },
  {
   "cell_type": "markdown",
   "metadata": {
    "colab_type": "text",
    "id": "JmM0vgOmcoBG"
   },
   "source": [
    "## 5. Analysis and Feature Engineering\n",
    "\n",
    "### 5.1 Identifying new features\n"
   ]
  },
  {
   "cell_type": "markdown",
   "metadata": {
    "colab_type": "text",
    "id": "yuPTF0eidCkX"
   },
   "source": [
    "To understand bidder data, we will aggregate features by their respective bidder ids into a separate table.\n",
    "\n",
    "We merge the new table to the train data, where bidder ID is provided."
   ]
  },
  {
   "cell_type": "code",
   "execution_count": 97,
   "metadata": {
    "colab": {
     "base_uri": "https://localhost:8080/",
     "height": 222
    },
    "colab_type": "code",
    "id": "FrMCpRuVNdlb",
    "outputId": "ab9b11c4-eb23-463f-9302-0eae2efede9a"
   },
   "outputs": [
    {
     "data": {
      "text/html": [
       "<div>\n",
       "<style scoped>\n",
       "    .dataframe tbody tr th:only-of-type {\n",
       "        vertical-align: middle;\n",
       "    }\n",
       "\n",
       "    .dataframe tbody tr th {\n",
       "        vertical-align: top;\n",
       "    }\n",
       "\n",
       "    .dataframe thead th {\n",
       "        text-align: right;\n",
       "    }\n",
       "</style>\n",
       "<table border=\"1\" class=\"dataframe\">\n",
       "  <thead>\n",
       "    <tr style=\"text-align: right;\">\n",
       "      <th></th>\n",
       "      <th>bidder_id</th>\n",
       "      <th>payment_account</th>\n",
       "      <th>address</th>\n",
       "      <th>outcome</th>\n",
       "      <th>bid_id_count</th>\n",
       "      <th>time_count</th>\n",
       "      <th>merchandise_count</th>\n",
       "      <th>auction_count</th>\n",
       "      <th>url_count</th>\n",
       "      <th>device_count</th>\n",
       "      <th>ip_count</th>\n",
       "      <th>country_count</th>\n",
       "    </tr>\n",
       "  </thead>\n",
       "  <tbody>\n",
       "    <tr>\n",
       "      <th>0</th>\n",
       "      <td>91a3c57b13234af24875c56fb7e2b2f4rb56a</td>\n",
       "      <td>a3d2de7675556553a5f08e4c88d2c228754av</td>\n",
       "      <td>a3d2de7675556553a5f08e4c88d2c228vt0u4</td>\n",
       "      <td>0.0</td>\n",
       "      <td>24.0</td>\n",
       "      <td>24.0</td>\n",
       "      <td>1.0</td>\n",
       "      <td>18.0</td>\n",
       "      <td>1.0</td>\n",
       "      <td>14.0</td>\n",
       "      <td>20.0</td>\n",
       "      <td>6.0</td>\n",
       "    </tr>\n",
       "    <tr>\n",
       "      <th>1</th>\n",
       "      <td>624f258b49e77713fc34034560f93fb3hu3jo</td>\n",
       "      <td>a3d2de7675556553a5f08e4c88d2c228v1sga</td>\n",
       "      <td>ae87054e5a97a8f840a3991d12611fdcrfbq3</td>\n",
       "      <td>0.0</td>\n",
       "      <td>3.0</td>\n",
       "      <td>3.0</td>\n",
       "      <td>1.0</td>\n",
       "      <td>1.0</td>\n",
       "      <td>2.0</td>\n",
       "      <td>2.0</td>\n",
       "      <td>3.0</td>\n",
       "      <td>1.0</td>\n",
       "    </tr>\n",
       "    <tr>\n",
       "      <th>2</th>\n",
       "      <td>1c5f4fc669099bfbfac515cd26997bd12ruaj</td>\n",
       "      <td>a3d2de7675556553a5f08e4c88d2c2280cybl</td>\n",
       "      <td>92520288b50f03907041887884ba49c0cl0pd</td>\n",
       "      <td>0.0</td>\n",
       "      <td>4.0</td>\n",
       "      <td>4.0</td>\n",
       "      <td>1.0</td>\n",
       "      <td>4.0</td>\n",
       "      <td>2.0</td>\n",
       "      <td>2.0</td>\n",
       "      <td>4.0</td>\n",
       "      <td>1.0</td>\n",
       "    </tr>\n",
       "    <tr>\n",
       "      <th>3</th>\n",
       "      <td>4bee9aba2abda51bf43d639013d6efe12iycd</td>\n",
       "      <td>51d80e233f7b6a7dfdee484a3c120f3b2ita8</td>\n",
       "      <td>4cb9717c8ad7e88a9a284989dd79b98dbevyi</td>\n",
       "      <td>0.0</td>\n",
       "      <td>1.0</td>\n",
       "      <td>1.0</td>\n",
       "      <td>1.0</td>\n",
       "      <td>1.0</td>\n",
       "      <td>1.0</td>\n",
       "      <td>1.0</td>\n",
       "      <td>1.0</td>\n",
       "      <td>1.0</td>\n",
       "    </tr>\n",
       "    <tr>\n",
       "      <th>4</th>\n",
       "      <td>4ab12bc61c82ddd9c2d65e60555808acqgos1</td>\n",
       "      <td>a3d2de7675556553a5f08e4c88d2c22857ddh</td>\n",
       "      <td>2a96c3ce94b3be921e0296097b88b56a7x1ji</td>\n",
       "      <td>0.0</td>\n",
       "      <td>155.0</td>\n",
       "      <td>155.0</td>\n",
       "      <td>1.0</td>\n",
       "      <td>23.0</td>\n",
       "      <td>91.0</td>\n",
       "      <td>53.0</td>\n",
       "      <td>123.0</td>\n",
       "      <td>2.0</td>\n",
       "    </tr>\n",
       "  </tbody>\n",
       "</table>\n",
       "</div>"
      ],
      "text/plain": [
       "                               bidder_id  ... country_count\n",
       "0  91a3c57b13234af24875c56fb7e2b2f4rb56a  ...           6.0\n",
       "1  624f258b49e77713fc34034560f93fb3hu3jo  ...           1.0\n",
       "2  1c5f4fc669099bfbfac515cd26997bd12ruaj  ...           1.0\n",
       "3  4bee9aba2abda51bf43d639013d6efe12iycd  ...           1.0\n",
       "4  4ab12bc61c82ddd9c2d65e60555808acqgos1  ...           2.0\n",
       "\n",
       "[5 rows x 12 columns]"
      ]
     },
     "execution_count": 97,
     "metadata": {
      "tags": []
     },
     "output_type": "execute_result"
    }
   ],
   "source": [
    "def add_grouping_to_bidder(column,train_extended):\n",
    "  temp_totalvalues=bids.groupby('bidder_id')[column].nunique()\n",
    "  train_extended= pd.merge(train_extended, temp_totalvalues, on='bidder_id', how='left')\n",
    "  new_column_name=column+'_count'\n",
    "  train_extended.rename(columns = {column:new_column_name}, inplace = True) \n",
    "  return train_extended\n",
    "\n",
    "group_count_columns = ['bid_id','time','merchandise', 'auction', 'url', 'device', 'ip', 'country']\n",
    "train_extended=train.copy()\n",
    "for column in group_count_columns: \n",
    "    train_extended=add_grouping_to_bidder(column,train_extended) \n",
    "\n",
    "train_extended.head()"
   ]
  },
  {
   "cell_type": "markdown",
   "metadata": {
    "colab_type": "text",
    "id": "sK5eci0gofBZ"
   },
   "source": [
    "### 5.2 Rebalancing the skewed records\n",
    "\n",
    "We are finding a total of 1983 records out of which 1880 are human bidders and 103 are identified as Bots. When we apply the model on this biased data, we got higher accuracy, but we noticed that the model was not able to identify the Bots correctly. This was due to underfitting with high bias towards skewed human outcome. Therefore, we will rebalance the records to prevent this issue."
   ]
  },
  {
   "cell_type": "code",
   "execution_count": 114,
   "metadata": {
    "colab": {
     "base_uri": "https://localhost:8080/",
     "height": 104
    },
    "colab_type": "code",
    "id": "Z0GVsicomw1n",
    "outputId": "494d23a6-558e-4001-deaa-74f3027c1725"
   },
   "outputs": [
    {
     "name": "stdout",
     "output_type": "stream",
     "text": [
      "train_extended dataset size before drop NA - 1983\n",
      "train_extended dataset size after drop NA - 1983\n",
      "Number of Rows with Bots outcome - 103\n",
      "Number of Rows with Human outcome - 1880\n",
      "Total records - 206\n"
     ]
    }
   ],
   "source": [
    "print(\"train_extended dataset size before drop NA -\", len(train_extended))\n",
    "train_extended = train_extended.dropna()\n",
    "print(\"train_extended dataset size after drop NA -\", len(train_extended))\n",
    "\n",
    "bots_train = train_extended.loc[train_extended.outcome == 1]\n",
    "print('Number of Rows with Bots outcome -', len(bots_train))\n",
    "human_train = train_extended.loc[train_extended.outcome == 0]\n",
    "print('Number of Rows with Human outcome -',len(human_train))\n",
    "human_sample = human_train.sample(n=len(bots_train), random_state=100)\n",
    "bid_train_balance = pd.concat([bots_train, human_sample])\n",
    "\n",
    "print('Total records -', len(bid_train_balance))"
   ]
  },
  {
   "cell_type": "markdown",
   "metadata": {
    "colab_type": "text",
    "id": "BKTIM1W_eAvE"
   },
   "source": [
    "Drop unnecessary obfuscated features that should not impact our baseline model. Transforming the categorical data to integers. Create the training and test set at a 70:30 ratio."
   ]
  },
  {
   "cell_type": "code",
   "execution_count": 107,
   "metadata": {
    "colab": {
     "base_uri": "https://localhost:8080/",
     "height": 237
    },
    "colab_type": "code",
    "id": "qTTQbnMjUYUD",
    "outputId": "66770ac6-44fb-4f1a-ff26-886b0fa9a63c"
   },
   "outputs": [
    {
     "name": "stdout",
     "output_type": "stream",
     "text": [
      "Train dataset size - 144\n",
      "Test dataset size - 62\n"
     ]
    },
    {
     "data": {
      "text/html": [
       "<div>\n",
       "<style scoped>\n",
       "    .dataframe tbody tr th:only-of-type {\n",
       "        vertical-align: middle;\n",
       "    }\n",
       "\n",
       "    .dataframe tbody tr th {\n",
       "        vertical-align: top;\n",
       "    }\n",
       "\n",
       "    .dataframe thead th {\n",
       "        text-align: right;\n",
       "    }\n",
       "</style>\n",
       "<table border=\"1\" class=\"dataframe\">\n",
       "  <thead>\n",
       "    <tr style=\"text-align: right;\">\n",
       "      <th></th>\n",
       "      <th>bidder_id</th>\n",
       "      <th>bid_id_count</th>\n",
       "      <th>time_count</th>\n",
       "      <th>merchandise_count</th>\n",
       "      <th>auction_count</th>\n",
       "      <th>url_count</th>\n",
       "      <th>device_count</th>\n",
       "      <th>ip_count</th>\n",
       "      <th>country_count</th>\n",
       "    </tr>\n",
       "  </thead>\n",
       "  <tbody>\n",
       "    <tr>\n",
       "      <th>21</th>\n",
       "      <td>67</td>\n",
       "      <td>181.0</td>\n",
       "      <td>181.0</td>\n",
       "      <td>1.0</td>\n",
       "      <td>18.0</td>\n",
       "      <td>1.0</td>\n",
       "      <td>51.0</td>\n",
       "      <td>13.0</td>\n",
       "      <td>7.0</td>\n",
       "    </tr>\n",
       "    <tr>\n",
       "      <th>50</th>\n",
       "      <td>123</td>\n",
       "      <td>6513.0</td>\n",
       "      <td>6455.0</td>\n",
       "      <td>1.0</td>\n",
       "      <td>269.0</td>\n",
       "      <td>1909.0</td>\n",
       "      <td>408.0</td>\n",
       "      <td>3441.0</td>\n",
       "      <td>65.0</td>\n",
       "    </tr>\n",
       "    <tr>\n",
       "      <th>51</th>\n",
       "      <td>139</td>\n",
       "      <td>2048.0</td>\n",
       "      <td>2044.0</td>\n",
       "      <td>1.0</td>\n",
       "      <td>127.0</td>\n",
       "      <td>5.0</td>\n",
       "      <td>24.0</td>\n",
       "      <td>358.0</td>\n",
       "      <td>14.0</td>\n",
       "    </tr>\n",
       "    <tr>\n",
       "      <th>58</th>\n",
       "      <td>84</td>\n",
       "      <td>281.0</td>\n",
       "      <td>277.0</td>\n",
       "      <td>1.0</td>\n",
       "      <td>26.0</td>\n",
       "      <td>7.0</td>\n",
       "      <td>1.0</td>\n",
       "      <td>8.0</td>\n",
       "      <td>2.0</td>\n",
       "    </tr>\n",
       "    <tr>\n",
       "      <th>77</th>\n",
       "      <td>22</td>\n",
       "      <td>1103.0</td>\n",
       "      <td>1095.0</td>\n",
       "      <td>1.0</td>\n",
       "      <td>107.0</td>\n",
       "      <td>4.0</td>\n",
       "      <td>4.0</td>\n",
       "      <td>836.0</td>\n",
       "      <td>29.0</td>\n",
       "    </tr>\n",
       "  </tbody>\n",
       "</table>\n",
       "</div>"
      ],
      "text/plain": [
       "    bidder_id  bid_id_count  time_count  ...  device_count  ip_count  country_count\n",
       "21         67         181.0       181.0  ...          51.0      13.0            7.0\n",
       "50        123        6513.0      6455.0  ...         408.0    3441.0           65.0\n",
       "51        139        2048.0      2044.0  ...          24.0     358.0           14.0\n",
       "58         84         281.0       277.0  ...           1.0       8.0            2.0\n",
       "77         22        1103.0      1095.0  ...           4.0     836.0           29.0\n",
       "\n",
       "[5 rows x 9 columns]"
      ]
     },
     "execution_count": 107,
     "metadata": {
      "tags": []
     },
     "output_type": "execute_result"
    }
   ],
   "source": [
    "def transform_categorical(column_name):    \n",
    "  le = preprocessing.LabelEncoder()\n",
    "  bid_train_balance[column_name]= le.fit_transform((bid_train_balance[column_name].astype(str)))\n",
    "\n",
    "# Transform the bidder_id column into integers\n",
    "columns = ['bidder_id']\n",
    "for column in columns: \n",
    "    transform_categorical(column) \n",
    "\n",
    "bid_train_balance.drop(['payment_account', 'address'], axis=1, inplace=True)\n",
    "\n",
    "X, Y = bid_train_balance.loc[:, bid_train_balance.columns != 'outcome' ], bid_train_balance['outcome']\n",
    "\n",
    "#Split dataset into 70% training set and 30% test set\n",
    "train_data, test_data, train_labels, test_labels = train_test_split(X, Y, test_size=0.3,random_state=109) \n",
    "\n",
    "print(\"Train dataset size -\", len(train_labels))\n",
    "print(\"Test dataset size -\", len(test_labels)) \n",
    "X.head()"
   ]
  },
  {
   "cell_type": "markdown",
   "metadata": {
    "colab_type": "text",
    "id": "U5SS3BYEfpgg"
   },
   "source": [
    "*******"
   ]
  },
  {
   "cell_type": "markdown",
   "metadata": {
    "colab_type": "text",
    "id": "Ahnw-gkCF9ol"
   },
   "source": [
    "## 6. Baseline Model\n",
    "\n",
    "We will be using the KNN model to predict the bidder by fitting the training data and evaluating its accuracy. The first step in this model is to find the best K. \n",
    "\n",
    "We will explore the options below to find the best value for the hyperparameter K.\n"
   ]
  },
  {
   "cell_type": "code",
   "execution_count": 108,
   "metadata": {
    "colab": {
     "base_uri": "https://localhost:8080/",
     "height": 297
    },
    "colab_type": "code",
    "id": "h_ms4jNkBUnI",
    "outputId": "7ecee7d0-137b-4662-b46f-e1b87ea1ec89"
   },
   "outputs": [
    {
     "name": "stdout",
     "output_type": "stream",
     "text": [
      "The optimal number of neighbors is 7\n"
     ]
    },
    {
     "data": {
      "image/png": "[encoded data removed]",
      "text/plain": [
       "<Figure size 432x288 with 1 Axes>"
      ]
     },
     "metadata": {
      "tags": []
     },
     "output_type": "display_data"
    }
   ],
   "source": [
    "# creating odd list of K for KNN from 1-50\n",
    "neighbors = list(range(1, 50, 2))\n",
    "\n",
    "# empty list that will hold cv scores\n",
    "cv_scores = []\n",
    "\n",
    "# perform 10-fold cross validation\n",
    "for k in neighbors:\n",
    "    neigh = KNeighborsClassifier(n_neighbors=k)\n",
    "    scores = cross_val_score(neigh, train_data, train_labels, cv=10, scoring='accuracy')\n",
    "    cv_scores.append(scores.mean())\n",
    "\n",
    "# changing to misclassification error\n",
    "mse = [1 - x for x in cv_scores]\n",
    "\n",
    "# determining best k\n",
    "best_k = neighbors[mse.index(min(mse))]\n",
    "print(\"The optimal number of neighbors is {}\".format(best_k))\n",
    "\n",
    "# plot misclassification error vs k\n",
    "plt.plot(neighbors, mse)\n",
    "plt.xlabel(\"K(Number of Neighbors)\")\n",
    "plt.ylabel(\"Misclassification Error\")\n",
    "plt.show()"
   ]
  },
  {
   "cell_type": "markdown",
   "metadata": {
    "colab_type": "text",
    "id": "wpx_MBaEJKMQ"
   },
   "source": [
    "Once we find the best K using cross validation, we will use it to fit the model"
   ]
  },
  {
   "cell_type": "code",
   "execution_count": 109,
   "metadata": {
    "colab": {
     "base_uri": "https://localhost:8080/",
     "height": 35
    },
    "colab_type": "code",
    "id": "76oQYHfsPmef",
    "outputId": "b676c4a0-f51d-4ee8-d4bc-dcbce001c6f6"
   },
   "outputs": [
    {
     "name": "stdout",
     "output_type": "stream",
     "text": [
      "Elapsed Time - 0.010819673538208008  seconds\n"
     ]
    }
   ],
   "source": [
    "start_time = time.time()\n",
    "neigh = KNeighborsClassifier(best_k)\n",
    "neigh.fit(train_data, train_labels) \n",
    "y_pred =neigh.predict(test_data)\n",
    "end_time =  time.time()\n",
    "elapsed_time = end_time - start_time\n",
    "print('Elapsed Time -', elapsed_time, ' seconds')   "
   ]
  },
  {
   "cell_type": "markdown",
   "metadata": {
    "colab_type": "text",
    "id": "uAwWhdPJfsOw"
   },
   "source": [
    "*******"
   ]
  },
  {
   "cell_type": "markdown",
   "metadata": {
    "colab_type": "text",
    "id": "CJ-Rw1FDbd7U"
   },
   "source": [
    "## 7. Evaluating the model"
   ]
  },
  {
   "cell_type": "markdown",
   "metadata": {
    "colab_type": "text",
    "id": "tdpP_3ySb2m0"
   },
   "source": [
    "### 7.1 Precision, Recall and F1-score\n",
    "\n",
    "The model can be evaluated using Precision, Recall and f1-scores"
   ]
  },
  {
   "cell_type": "code",
   "execution_count": 110,
   "metadata": {
    "colab": {
     "base_uri": "https://localhost:8080/",
     "height": 173
    },
    "colab_type": "code",
    "id": "5p4v_42PcEm1",
    "outputId": "00043308-b47e-47b1-9a6d-185daaed01e2"
   },
   "outputs": [
    {
     "name": "stdout",
     "output_type": "stream",
     "text": [
      "              precision    recall  f1-score   support\n",
      "\n",
      "         0.0       0.87      0.87      0.87        30\n",
      "         1.0       0.88      0.88      0.88        32\n",
      "\n",
      "    accuracy                           0.87        62\n",
      "   macro avg       0.87      0.87      0.87        62\n",
      "weighted avg       0.87      0.87      0.87        62\n",
      "\n"
     ]
    }
   ],
   "source": [
    "report=classification_report(test_labels, y_pred, output_dict=True)\n",
    "print(classification_report(test_labels, y_pred))\n",
    "precision = metrics.precision_score(test_labels, y_pred)\n",
    "recall = metrics.recall_score(test_labels, y_pred)\n",
    "f1score = metrics.f1_score(test_labels, y_pred)"
   ]
  },
  {
   "cell_type": "markdown",
   "metadata": {
    "colab_type": "text",
    "id": "uudvS_vTbmgW"
   },
   "source": [
    "### 7.2 Accuracy\n",
    "\n",
    "Let us compute the accuracy of this model"
   ]
  },
  {
   "cell_type": "code",
   "execution_count": 111,
   "metadata": {
    "colab": {
     "base_uri": "https://localhost:8080/",
     "height": 35
    },
    "colab_type": "code",
    "id": "JxtO2jFNb1kp",
    "outputId": "27e9c303-64c6-4ce6-db35-f774b4f141a9"
   },
   "outputs": [
    {
     "name": "stdout",
     "output_type": "stream",
     "text": [
      "Accuracy score - 0.8709677419354839\n"
     ]
    }
   ],
   "source": [
    "accuracy = report.get('accuracy')\n",
    "print(\"Accuracy score -\",accuracy) "
   ]
  },
  {
   "cell_type": "markdown",
   "metadata": {
    "colab_type": "text",
    "id": "-NAIJeLIjSwx"
   },
   "source": [
    "### 7.3 AUC & ROC\n",
    "\n",
    "AUC - ROC curve is a performance measurement for classification problem at various thresholds settings. ROC is a probability curve and AUC represents degree or measure of separability. It tells how much model is capable of distinguishing between classes. Higher the AUC, better the model is at predicting 0s as 0s and 1s as 1s. \n"
   ]
  },
  {
   "cell_type": "code",
   "execution_count": 112,
   "metadata": {
    "colab": {
     "base_uri": "https://localhost:8080/",
     "height": 367
    },
    "colab_type": "code",
    "id": "DT6Qzx29jtD2",
    "outputId": "7b0f29d1-7f66-45e3-e63d-f260022efac9"
   },
   "outputs": [
    {
     "name": "stdout",
     "output_type": "stream",
     "text": [
      "ROC Score - 0.8708333333333333\n"
     ]
    },
    {
     "data": {
      "image/png": "[encoded data removed]",
      "text/plain": [
       "<Figure size 360x360 with 1 Axes>"
      ]
     },
     "metadata": {
      "tags": []
     },
     "output_type": "display_data"
    }
   ],
   "source": [
    "roc = metrics.roc_auc_score(test_labels, y_pred)\n",
    "print('ROC Score -', roc)\n",
    "\n",
    "y_dt_score = neigh.predict_proba(test_data)[:, 1]\n",
    "fpr_dt, tpr_dt, _dt = roc_curve(test_labels, y_dt_score)\n",
    "roc_dt_auc = auc(fpr_dt, tpr_dt)\n",
    "fig = plt.figure(figsize=(5, 5))\n",
    "plt.plot(fpr_dt, tpr_dt, label='DT ROC curve (area = %0.2f)' % roc_dt_auc)\n",
    "plt.plot([0, 1], [0, 1], 'k--')\n",
    "plt.xlim([0.0, 1.0])\n",
    "plt.ylim([0.0, 1.005])\n",
    "plt.xlabel('False Positive Rate')\n",
    "plt.ylabel('True Positive Rate')\n",
    "plt.title('Receiver operating characteristic')\n",
    "plt.legend(loc=\"lower right\")\n",
    "plt.show()\n",
    "fig.savefig('roc_dt_auc.png')"
   ]
  },
  {
   "cell_type": "markdown",
   "metadata": {
    "colab_type": "text",
    "id": "Opy4RrV7slkl"
   },
   "source": [
    "## 8. Challenges and workarounds\n",
    "### Challenge 1: trustworthiness of the labels\n",
    "According to the disclaimer on the website, the labels are not 100% trustworthy. There may be some bots mislabels as humans and vice versa. This is especially true for new bidders: \n",
    "The outcome was half hand labeled, half stats-based. There are two types of \"bots\" with different levels of proof:\n",
    "1. Bidders who are identified as bots/fraudulent with clear proof. Their accounts were banned by the auction site.\n",
    "2. Bidder who may have just started their business/clicks or their stats exceed from system wide average. There are no clear proof that they are bots. \n",
    "**Possible workarounds:**\n",
    "\n",
    "From the provided dataset, can we distinguish “just started” from the rest? If yes, how much of the data set they constitute? \n",
    "Can we build clusters to improve the labeling? \n",
    "\n",
    "### Challenge 2: obfuscation for privacy protection \n",
    "Since IP’s, referrer URL’s, device types, andtime are obfuscated to protect privacy, we cannot rely on them to infer which country the user is accessing the auction platform from. It will be difficult to perform text analysis on referrer URLs as they are replaced with some hash-like data structures.\n",
    "\n",
    "**Possible workarounds:**\n",
    "\n",
    "There is a separate ‘country’ field which hopefully would compensate for this limitation\n",
    "Hence, we may derive features from IP’s (e.g. look at IP as a whole and its prefix, also look at the combination of country and ip prefix as it’s possible that some bidders are spoofing IPs\n",
    "There are some urls that match across different bidders. So we can build a dictionary with one word = one url and sparse matrix for bids and / or bidders indicating if they were used as referrers\n",
    "Time was transformed but hopefully it preserved ‘bot patterns’ \n",
    "\n",
    "### Challenge 3: Unclean Data\n",
    "\n",
    "Some of the data is missing from our bids and training dataset. For the available training dataset, we have missing information corresponding to the bidder’s placed bids. This also occurs with our bids dataset, where bidder metadata and outcome is unavailable. \n",
    "\n",
    "**Possible workarounds:**\n",
    "\n",
    "We removed NAs from our data after merging data that contained features/entries from both datasets. Then we transformed our categorical name data into numerical data for modelling purposes. \n",
    "We engineered new features from our dataset and will continue to improve the feature set to train our models.\n"
   ]
  },
  {
   "cell_type": "markdown",
   "metadata": {
    "colab_type": "text",
    "id": "QK2WgT8DnA6g"
   },
   "source": [
    "## 9. Conclusion\n",
    "\n",
    "As we can see below, this base KNN model is reasonbly fast and good in terms of accuracy. We will try to compare with other algorithms and see if the performance improves the performance further."
   ]
  },
  {
   "cell_type": "code",
   "execution_count": 113,
   "metadata": {
    "colab": {
     "base_uri": "https://localhost:8080/",
     "height": 233
    },
    "colab_type": "code",
    "id": "QPIJx1KZqjHH",
    "outputId": "33b18169-6db8-4077-b570-c540b341cacc"
   },
   "outputs": [
    {
     "data": {
      "text/html": [
       "<div>\n",
       "<style scoped>\n",
       "    .dataframe tbody tr th:only-of-type {\n",
       "        vertical-align: middle;\n",
       "    }\n",
       "\n",
       "    .dataframe tbody tr th {\n",
       "        vertical-align: top;\n",
       "    }\n",
       "\n",
       "    .dataframe thead th {\n",
       "        text-align: right;\n",
       "    }\n",
       "</style>\n",
       "<table border=\"1\" class=\"dataframe\">\n",
       "  <thead>\n",
       "    <tr style=\"text-align: right;\">\n",
       "      <th></th>\n",
       "      <th>KNN Model</th>\n",
       "    </tr>\n",
       "  </thead>\n",
       "  <tbody>\n",
       "    <tr>\n",
       "      <th>Accuracy_score</th>\n",
       "      <td>0.871</td>\n",
       "    </tr>\n",
       "    <tr>\n",
       "      <th>Precision_score</th>\n",
       "      <td>0.875</td>\n",
       "    </tr>\n",
       "    <tr>\n",
       "      <th>Recall_Score</th>\n",
       "      <td>0.875</td>\n",
       "    </tr>\n",
       "    <tr>\n",
       "      <th>F1_score</th>\n",
       "      <td>0.875</td>\n",
       "    </tr>\n",
       "    <tr>\n",
       "      <th>ROC_AUC_score</th>\n",
       "      <td>0.871</td>\n",
       "    </tr>\n",
       "    <tr>\n",
       "      <th>Time(s)</th>\n",
       "      <td>0.028</td>\n",
       "    </tr>\n",
       "  </tbody>\n",
       "</table>\n",
       "</div>"
      ],
      "text/plain": [
       "                 KNN Model\n",
       "Accuracy_score       0.871\n",
       "Precision_score      0.875\n",
       "Recall_Score         0.875\n",
       "F1_score             0.875\n",
       "ROC_AUC_score        0.871\n",
       "Time(s)              0.028"
      ]
     },
     "execution_count": 113,
     "metadata": {
      "tags": []
     },
     "output_type": "execute_result"
    }
   ],
   "source": [
    "knn_metrics = [accuracy, precision, recall, f1score, roc, elaped_time]\n",
    "\n",
    "label = [\"Accuracy_score\", \"Precision_score\",\n",
    "         \"Recall_Score\", \"F1_score\", \"ROC_AUC_score\", \"Time(s)\"]\n",
    "table = pd.DataFrame({'KNN Model': knn_metrics})\n",
    "\n",
    "table = table.transpose()\n",
    "table.columns = label\n",
    "table.transpose().round(3)"
   ]
  },
  {
   "cell_type": "markdown",
   "metadata": {
    "colab_type": "text",
    "id": "J9mJS_BMfxmf"
   },
   "source": [
    "*******"
   ]
  }
 ],
 "metadata": {
  "colab": {
   "collapsed_sections": [],
   "name": "W207_FinalProject",
   "provenance": []
  },
  "kernelspec": {
   "display_name": "Python 3",
   "language": "python",
   "name": "python3"
  },
  "language_info": {
   "codemirror_mode": {
    "name": "ipython",
    "version": 3
   },
   "file_extension": ".py",
   "mimetype": "text/x-python",
   "name": "python",
   "nbconvert_exporter": "python",
   "pygments_lexer": "ipython3",
   "version": "3.7.3"
  }
 },
 "nbformat": 4,
 "nbformat_minor": 1
}
